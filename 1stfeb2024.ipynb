{
  "nbformat": 4,
  "nbformat_minor": 0,
  "metadata": {
    "colab": {
      "provenance": [],
      "authorship_tag": "ABX9TyMqQV8MWSyhETZYqTRtEQ4d",
      "include_colab_link": true
    },
    "kernelspec": {
      "name": "python3",
      "display_name": "Python 3"
    },
    "language_info": {
      "name": "python"
    }
  },
  "cells": [
    {
      "cell_type": "markdown",
      "metadata": {
        "id": "view-in-github",
        "colab_type": "text"
      },
      "source": [
        "<a href=\"https://colab.research.google.com/github/Kushagraraghav/python_code/blob/main/1stfeb2024.ipynb\" target=\"_parent\"><img src=\"https://colab.research.google.com/assets/colab-badge.svg\" alt=\"Open In Colab\"/></a>"
      ]
    },
    {
      "cell_type": "code",
      "execution_count": 9,
      "metadata": {
        "colab": {
          "base_uri": "https://localhost:8080/"
        },
        "id": "cYu-W8jZn-f7",
        "outputId": "dc0b5b66-2767-4353-a9ba-0f04842b43d3"
      },
      "outputs": [
        {
          "output_type": "stream",
          "name": "stdout",
          "text": [
            "<class 'list'>\n",
            "<class 'tuple'>\n",
            "['saumya', 'lava', 'shresth', 'aaryan', 'kushagra']\n",
            "['saumya', 'lava', 'shresth', 'aaryan', 'kushagra', 'dhakan']\n",
            "['shresth', 'aaryan', 'kushagra']\n"
          ]
        }
      ],
      "source": [
        "a=['yamini','saumya','lava','shresth','aaryan','kushagra'] #list\n",
        "b=('yamini','saumya','lava','shresth','aaryan','kushagra') #tuple\n",
        "#difference between them is that list is mutable and tuple is not mutuable\n",
        "c=print(type(a))\n",
        "d=print(type(b))\n",
        "a.remove('yamini')\n",
        "print(a)\n",
        "a.append('dhakan')\n",
        "print(a)\n",
        "print(a[2:5])"
      ]
    },
    {
      "cell_type": "code",
      "source": [
        "list_3=[i for i in range(20) if i%2 == 0]\n",
        "print(list_3)"
      ],
      "metadata": {
        "colab": {
          "base_uri": "https://localhost:8080/"
        },
        "id": "_tZmJwbNqV0K",
        "outputId": "61b9192f-dbbe-4007-af11-dc3ac28b859f"
      },
      "execution_count": 11,
      "outputs": [
        {
          "output_type": "stream",
          "name": "stdout",
          "text": [
            "[0, 2, 4, 6, 8, 10, 12, 14, 16, 18]\n"
          ]
        }
      ]
    },
    {
      "cell_type": "code",
      "source": [
        "list_3=[i for i in range(20) if i%2 ==0]\n",
        "print('list of even numbers in given range \\n',list_3)\n",
        "list_4=[i for i in range(20) if i%2 !=0]\n",
        "print('list of odd numbers in given range \\n ',list_4)\n",
        "\n"
      ],
      "metadata": {
        "colab": {
          "base_uri": "https://localhost:8080/"
        },
        "id": "Ncyh5twYrO2c",
        "outputId": "fdd0ac41-b174-43ff-e20e-5d7141a6cf81"
      },
      "execution_count": 19,
      "outputs": [
        {
          "output_type": "stream",
          "name": "stdout",
          "text": [
            "list of even numbers in given range \n",
            " [0, 2, 4, 6, 8, 10, 12, 14, 16, 18]\n",
            "list of odd numbers in given range \n",
            "  [1, 3, 5, 7, 9, 11, 13, 15, 17, 19]\n"
          ]
        }
      ]
    },
    {
      "cell_type": "code",
      "source": [
        "list_4 = [i for i in range(101)]\n",
        "for i in list_4:\n",
        "  if i%2 == 0:\n",
        "    print(f'{i} is even')\n",
        "  else:\n",
        "    print(f'{i} is odd')"
      ],
      "metadata": {
        "colab": {
          "base_uri": "https://localhost:8080/"
        },
        "id": "DbJQWxlMsnkl",
        "outputId": "85ece9e2-fc62-4695-b573-8da89993caac"
      },
      "execution_count": 20,
      "outputs": [
        {
          "output_type": "stream",
          "name": "stdout",
          "text": [
            "0 is even\n",
            "1 is odd\n",
            "2 is even\n",
            "3 is odd\n",
            "4 is even\n",
            "5 is odd\n",
            "6 is even\n",
            "7 is odd\n",
            "8 is even\n",
            "9 is odd\n",
            "10 is even\n",
            "11 is odd\n",
            "12 is even\n",
            "13 is odd\n",
            "14 is even\n",
            "15 is odd\n",
            "16 is even\n",
            "17 is odd\n",
            "18 is even\n",
            "19 is odd\n",
            "20 is even\n",
            "21 is odd\n",
            "22 is even\n",
            "23 is odd\n",
            "24 is even\n",
            "25 is odd\n",
            "26 is even\n",
            "27 is odd\n",
            "28 is even\n",
            "29 is odd\n",
            "30 is even\n",
            "31 is odd\n",
            "32 is even\n",
            "33 is odd\n",
            "34 is even\n",
            "35 is odd\n",
            "36 is even\n",
            "37 is odd\n",
            "38 is even\n",
            "39 is odd\n",
            "40 is even\n",
            "41 is odd\n",
            "42 is even\n",
            "43 is odd\n",
            "44 is even\n",
            "45 is odd\n",
            "46 is even\n",
            "47 is odd\n",
            "48 is even\n",
            "49 is odd\n",
            "50 is even\n",
            "51 is odd\n",
            "52 is even\n",
            "53 is odd\n",
            "54 is even\n",
            "55 is odd\n",
            "56 is even\n",
            "57 is odd\n",
            "58 is even\n",
            "59 is odd\n",
            "60 is even\n",
            "61 is odd\n",
            "62 is even\n",
            "63 is odd\n",
            "64 is even\n",
            "65 is odd\n",
            "66 is even\n",
            "67 is odd\n",
            "68 is even\n",
            "69 is odd\n",
            "70 is even\n",
            "71 is odd\n",
            "72 is even\n",
            "73 is odd\n",
            "74 is even\n",
            "75 is odd\n",
            "76 is even\n",
            "77 is odd\n",
            "78 is even\n",
            "79 is odd\n",
            "80 is even\n",
            "81 is odd\n",
            "82 is even\n",
            "83 is odd\n",
            "84 is even\n",
            "85 is odd\n",
            "86 is even\n",
            "87 is odd\n",
            "88 is even\n",
            "89 is odd\n",
            "90 is even\n",
            "91 is odd\n",
            "92 is even\n",
            "93 is odd\n",
            "94 is even\n",
            "95 is odd\n",
            "96 is even\n",
            "97 is odd\n",
            "98 is even\n",
            "99 is odd\n",
            "100 is even\n"
          ]
        }
      ]
    },
    {
      "cell_type": "code",
      "source": [
        "my_list = [\"a\", \"1\", \"b\", \"2\", \"3\", \"4\", \"c\", \"d\"]\n",
        "result = [val for val in my_list if val.isdigit()]\n",
        "print(result)\n",
        "result2 = [val for val in my_list if val.isalpha()]\n",
        "print(result2)"
      ],
      "metadata": {
        "colab": {
          "base_uri": "https://localhost:8080/"
        },
        "id": "cUxPfJcdw3Iq",
        "outputId": "636d8d71-33c8-4fc0-eb7d-84653f07dc41"
      },
      "execution_count": 24,
      "outputs": [
        {
          "output_type": "stream",
          "name": "stdout",
          "text": [
            "['1', '2', '3', '4']\n",
            "['a', 'b', 'c', 'd']\n"
          ]
        }
      ]
    },
    {
      "cell_type": "markdown",
      "source": [
        "## immutualitbilty of the string"
      ],
      "metadata": {
        "id": "mpXqECABzN3t"
      }
    },
    {
      "cell_type": "code",
      "source": [
        "str_1 = 'hello'\n",
        "print(id(str_1))\n",
        "str_2 = 'world'\n",
        "print(id(str_2))\n",
        "str_1 = str_1+str_2\n",
        "print(str_1)\n",
        "print(id(str_1))"
      ],
      "metadata": {
        "colab": {
          "base_uri": "https://localhost:8080/"
        },
        "id": "wWYQgHXyzno8",
        "outputId": "729cfc48-6b70-4fe1-9914-419d4fed253e"
      },
      "execution_count": 26,
      "outputs": [
        {
          "output_type": "stream",
          "name": "stdout",
          "text": [
            "134531373609392\n",
            "134530892801904\n",
            "helloworld\n",
            "134530529398512\n"
          ]
        }
      ]
    },
    {
      "cell_type": "code",
      "source": [
        "\n",
        "a=(1,2,3,4,5,'hi')\n",
        "for i in enumerate(a):# enumerate use to tell index\n",
        "  print(i)\n",
        "\n",
        ""
      ],
      "metadata": {
        "colab": {
          "base_uri": "https://localhost:8080/"
        },
        "id": "KukEmmnM0xfz",
        "outputId": "cb73d14e-1f09-43a4-81aa-8b1ed5ee767a"
      },
      "execution_count": 40,
      "outputs": [
        {
          "output_type": "stream",
          "name": "stdout",
          "text": [
            "(0, 1)\n",
            "(1, 2)\n",
            "(2, 3)\n",
            "(3, 4)\n",
            "(4, 5)\n",
            "(5, 'hi')\n"
          ]
        }
      ]
    }
  ]
}