{
  "nbformat": 4,
  "nbformat_minor": 0,
  "metadata": {
    "colab": {
      "provenance": [],
      "authorship_tag": "ABX9TyPZ46yM7l9OjOF7wwjrQVrN",
      "include_colab_link": true
    },
    "kernelspec": {
      "name": "python3",
      "display_name": "Python 3"
    },
    "language_info": {
      "name": "python"
    }
  },
  "cells": [
    {
      "cell_type": "markdown",
      "metadata": {
        "id": "view-in-github",
        "colab_type": "text"
      },
      "source": [
        "<a href=\"https://colab.research.google.com/github/Kushagraraghav/python_code/blob/main/13thfeb2024.ipynb\" target=\"_parent\"><img src=\"https://colab.research.google.com/assets/colab-badge.svg\" alt=\"Open In Colab\"/></a>"
      ]
    },
    {
      "cell_type": "code",
      "source": [
        "#wap to extract even and odd umber from a list\n",
        "list1 = [10, 21, 4, 45, 66, 93, 11]\n",
        "\n",
        "even_nos = list(filter(lambda x: (x % 2 == 0), list1))\n",
        "\n",
        "print(\"Even numbers in the list: \", even_nos)\n",
        "odd_nos = list(filter(lambda x: (x % 2 != 0), list1))\n",
        "print(\"odd numbers in the list: \", odd_nos)\n"
      ],
      "metadata": {
        "colab": {
          "base_uri": "https://localhost:8080/"
        },
        "id": "0OfAXh2StScT",
        "outputId": "093903b1-5c6a-490c-e0c8-9e0e6bb92c7f"
      },
      "execution_count": 3,
      "outputs": [
        {
          "output_type": "stream",
          "name": "stdout",
          "text": [
            "Even numbers in the list:  [10, 4, 66]\n",
            "odd numbers in the list:  [21, 45, 93, 11]\n"
          ]
        }
      ]
    },
    {
      "cell_type": "code",
      "source": [
        "list1 = [10, 21, 4, 45, 66, 93]\n",
        "\n",
        "even_nos = [num for num in list1 if num % 2 == 0]\n",
        "\n",
        "print(\"Even numbers in the list: \", even_nos)\n",
        "\n",
        "odd_nos = [num for num in list1 if num % 2 != 0]\n",
        "\n",
        "print(\"odd numbers in the list: \", odd_nos)"
      ],
      "metadata": {
        "colab": {
          "base_uri": "https://localhost:8080/"
        },
        "id": "UvccFBeDuJ4N",
        "outputId": "97137116-4297-4ba1-e31a-ae2c3a20e1d3"
      },
      "execution_count": 4,
      "outputs": [
        {
          "output_type": "stream",
          "name": "stdout",
          "text": [
            "Even numbers in the list:  [10, 4, 66]\n",
            "odd numbers in the list:  [21, 45, 93]\n"
          ]
        }
      ]
    }
  ]
}