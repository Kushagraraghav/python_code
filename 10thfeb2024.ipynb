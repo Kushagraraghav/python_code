{
  "nbformat": 4,
  "nbformat_minor": 0,
  "metadata": {
    "colab": {
      "provenance": [],
      "authorship_tag": "ABX9TyOM4zG8Uam34KX49zlW8Vzy",
      "include_colab_link": true
    },
    "kernelspec": {
      "name": "python3",
      "display_name": "Python 3"
    },
    "language_info": {
      "name": "python"
    }
  },
  "cells": [
    {
      "cell_type": "markdown",
      "metadata": {
        "id": "view-in-github",
        "colab_type": "text"
      },
      "source": [
        "<a href=\"https://colab.research.google.com/github/Kushagraraghav/python_code/blob/main/10thfeb2024.ipynb\" target=\"_parent\"><img src=\"https://colab.research.google.com/assets/colab-badge.svg\" alt=\"Open In Colab\"/></a>"
      ]
    },
    {
      "cell_type": "code",
      "execution_count": 12,
      "metadata": {
        "colab": {
          "base_uri": "https://localhost:8080/"
        },
        "id": "QEeM1vG9_xl5",
        "outputId": "7619fcea-2a66-4068-9050-c8351f0b8163"
      },
      "outputs": [
        {
          "output_type": "execute_result",
          "data": {
            "text/plain": [
              "24"
            ]
          },
          "metadata": {},
          "execution_count": 12
        }
      ],
      "source": [
        "def fun1(n):\n",
        "  c=1\n",
        "  if( n==0 or n==1 ):\n",
        "    return 1\n",
        "  for i in range(2,n+1):\n",
        "    c=c*i\n",
        "  return c\n",
        "fun1(4)"
      ]
    },
    {
      "cell_type": "code",
      "source": [
        "# write a program to print fibonnaic series\n",
        "def fibonacci(n):\n",
        "    a = 0\n",
        "    b = 1\n",
        "\n",
        "\n",
        "\n",
        "    if n < 0:\n",
        "        print(\"Incorrect input\")\n",
        "\n",
        "\n",
        "\n",
        "    elif n == 0:\n",
        "        return 0\n",
        "\n",
        "\n",
        "    elif n == 1:\n",
        "        return b\n",
        "    else:\n",
        "        for i in range(1, n):\n",
        "            c = a + b\n",
        "            a = b\n",
        "            b = c\n",
        "        return b\n",
        "\n",
        "\n",
        "print(fibonacci(9))"
      ],
      "metadata": {
        "colab": {
          "base_uri": "https://localhost:8080/"
        },
        "id": "i6Hf0aUNCc5e",
        "outputId": "97cd3676-eecb-48f6-f859-8537e97e9845"
      },
      "execution_count": 15,
      "outputs": [
        {
          "output_type": "stream",
          "name": "stdout",
          "text": [
            "34\n"
          ]
        }
      ]
    },
    {
      "cell_type": "code",
      "source": [
        "def num_1(n):\n",
        "  num_1=int(input(\"enter the number:\"))\n",
        "  if num_1%2==0:\n",
        "    print(\"the given number is even\")\n",
        "  else:\n",
        "    print(\"the given number is odd\")\n",
        "  if num_1>1:\n",
        "   for i in range(2,int(n/2)+1):\n",
        "      if (num_1%i)==0:\n",
        "          print(\"the given number is prime\")\n",
        "      else:\n",
        "          print(\"the given is not a prime number\")\n",
        "num_1(6)\n",
        ""
      ],
      "metadata": {
        "colab": {
          "base_uri": "https://localhost:8080/"
        },
        "id": "exEW5ZgpGujB",
        "outputId": "48c9f1e9-33ef-4096-9c10-3bc6c1968303"
      },
      "execution_count": 60,
      "outputs": [
        {
          "output_type": "stream",
          "name": "stdout",
          "text": [
            "enter the number:5\n",
            "the given number is odd\n",
            "the given is not a prime number\n",
            "the given is not a prime number\n"
          ]
        }
      ]
    },
    {
      "cell_type": "code",
      "source": [
        "def greet(n):\n",
        "  if(n==0 or n==1):\n",
        "    return 1\n",
        "\n",
        "  else:\n",
        "   return n*greet(n-1)\n",
        "greet(5)\n",
        "\n",
        "\n",
        "\n",
        ""
      ],
      "metadata": {
        "colab": {
          "base_uri": "https://localhost:8080/"
        },
        "id": "xWH2p93IIgSE",
        "outputId": "8047118b-19c2-4b00-865d-6e776bbfc6e5"
      },
      "execution_count": 56,
      "outputs": [
        {
          "output_type": "execute_result",
          "data": {
            "text/plain": [
              "120"
            ]
          },
          "metadata": {},
          "execution_count": 56
        }
      ]
    },
    {
      "cell_type": "code",
      "source": [
        "#wap to print fibbonaic series using recusrion\n",
        "def Fibonacci(n):\n",
        "\n",
        "    if n<= 0:\n",
        "        print(\"Incorrect input\")\n",
        "\n",
        "    elif n == 1:\n",
        "        return 0\n",
        "\n",
        "    elif n == 2:\n",
        "        return 1\n",
        "    else:\n",
        "        return Fibonacci(n-1)+Fibonacci(n-2)\n",
        "print(Fibonacci(10))"
      ],
      "metadata": {
        "colab": {
          "base_uri": "https://localhost:8080/"
        },
        "id": "VnDqhMijKz6n",
        "outputId": "095459ba-e3f1-4678-fd4b-ba61725c526b"
      },
      "execution_count": 63,
      "outputs": [
        {
          "output_type": "stream",
          "name": "stdout",
          "text": [
            "34\n"
          ]
        }
      ]
    }
  ]
}