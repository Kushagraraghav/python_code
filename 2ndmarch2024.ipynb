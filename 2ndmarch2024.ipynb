{
  "nbformat": 4,
  "nbformat_minor": 0,
  "metadata": {
    "colab": {
      "provenance": [],
      "authorship_tag": "ABX9TyNTMZUkkuVDo6j3DfM9vhP7",
      "include_colab_link": true
    },
    "kernelspec": {
      "name": "python3",
      "display_name": "Python 3"
    },
    "language_info": {
      "name": "python"
    }
  },
  "cells": [
    {
      "cell_type": "markdown",
      "metadata": {
        "id": "view-in-github",
        "colab_type": "text"
      },
      "source": [
        "<a href=\"https://colab.research.google.com/github/Kushagraraghav/python_code/blob/main/2ndmarch2024.ipynb\" target=\"_parent\"><img src=\"https://colab.research.google.com/assets/colab-badge.svg\" alt=\"Open In Colab\"/></a>"
      ]
    },
    {
      "cell_type": "code",
      "execution_count": 1,
      "metadata": {
        "colab": {
          "base_uri": "https://localhost:8080/"
        },
        "id": "Rb9YTPrgIv3y",
        "outputId": "d7d40011-fa28-42bb-c222-ff3d2770c1f3"
      },
      "outputs": [
        {
          "output_type": "stream",
          "name": "stdout",
          "text": [
            "0\n",
            "1\n",
            "2\n",
            "3\n",
            "4\n",
            "5\n",
            "6\n",
            "7\n",
            "8\n",
            "9\n"
          ]
        }
      ],
      "source": [
        "#program to delay the speed of program\n",
        "import time\n",
        "for i in range (10):\n",
        "  time.sleep(i)\n",
        "  print(i)"
      ]
    },
    {
      "cell_type": "markdown",
      "source": [
        "# exceptional **handling**"
      ],
      "metadata": {
        "id": "IPZLBRz1MUfH"
      }
    },
    {
      "cell_type": "code",
      "source": [
        "\n",
        "try:\n",
        "  age=int(input(\"enter ur age\"))\n",
        "  print(age)\n",
        "\n",
        "except(ValueError):\n",
        "  print(\"enter the number only\")\n",
        ""
      ],
      "metadata": {
        "colab": {
          "base_uri": "https://localhost:8080/"
        },
        "id": "_7Hl7zVZJ0TY",
        "outputId": "f62ed81f-3ad3-4d70-a9bb-a6eca14c244a"
      },
      "execution_count": 6,
      "outputs": [
        {
          "output_type": "stream",
          "name": "stdout",
          "text": [
            "enter ur agea\n",
            "enter the number only\n"
          ]
        }
      ]
    },
    {
      "cell_type": "code",
      "source": [
        "try:\n",
        "  def summ(a,b):\n",
        "    return a/b\n",
        "  m = int(input(\"enter the first number\"))\n",
        "  n = int(input(\"enter the second number\"))\n",
        "  summ(m,n)\n",
        "except(ZeroDivisionError):\n",
        "  print(\"number cant be divided by zero\")\n"
      ],
      "metadata": {
        "colab": {
          "base_uri": "https://localhost:8080/"
        },
        "id": "DB6jwypzM99f",
        "outputId": "137c44a5-f60d-4181-8b7d-e8faaeb5f77f"
      },
      "execution_count": 41,
      "outputs": [
        {
          "output_type": "stream",
          "name": "stdout",
          "text": [
            "enter the first number12\n",
            "enter the second number0\n",
            "number cant be divided by zero\n"
          ]
        }
      ]
    }
  ]
}