{
  "nbformat": 4,
  "nbformat_minor": 0,
  "metadata": {
    "colab": {
      "provenance": [],
      "authorship_tag": "ABX9TyOQNgOgehRRJywcwp+mi4hj",
      "include_colab_link": true
    },
    "kernelspec": {
      "name": "python3",
      "display_name": "Python 3"
    },
    "language_info": {
      "name": "python"
    }
  },
  "cells": [
    {
      "cell_type": "markdown",
      "metadata": {
        "id": "view-in-github",
        "colab_type": "text"
      },
      "source": [
        "<a href=\"https://colab.research.google.com/github/Kushagraraghav/python_code/blob/main/3rdmarch2024.ipynb\" target=\"_parent\"><img src=\"https://colab.research.google.com/assets/colab-badge.svg\" alt=\"Open In Colab\"/></a>"
      ]
    },
    {
      "cell_type": "code",
      "execution_count": null,
      "metadata": {
        "colab": {
          "base_uri": "https://localhost:8080/"
        },
        "id": "77DqfTJQCrhn",
        "outputId": "3500a8c5-533e-43c0-fd6a-08861743b6d5"
      },
      "outputs": [
        {
          "output_type": "stream",
          "name": "stdout",
          "text": [
            "[2, 3, 5, 7, 11, 13, 17, 19, 23, 29, 31, 37, 41, 43, 47, 53, 59, 61, 67, 71, 73, 79, 83, 89, 97]\n"
          ]
        }
      ],
      "source": [
        "#wap to create a list and print all the prime number between 1 to 100\n",
        "print([i for i in range(2, 100) if 0 not in [i%n for n in range(2, i)]])"
      ]
    },
    {
      "cell_type": "code",
      "source": [
        "#wap to swap first and last element in list\n",
        "a=[]\n",
        "n= int(input(\"Enter the number of elements in list:\"))\n",
        "for x in range(0,n):\n",
        "    element=int(input(\"Enter element\" + str(x+1) + \":\"))\n",
        "    a.append(element)\n",
        "print(\"ur list before swapping is \",a)\n",
        "temp=a[0]\n",
        "a[0]=a[n-1]\n",
        "a[n-1]=temp\n",
        "print(\"ur list after swapping is\",a)"
      ],
      "metadata": {
        "id": "YGysy6CYEo1V",
        "colab": {
          "base_uri": "https://localhost:8080/"
        },
        "outputId": "95e8e96d-7d7e-41f7-c328-55a7509457b1"
      },
      "execution_count": 11,
      "outputs": [
        {
          "output_type": "stream",
          "name": "stdout",
          "text": [
            "Enter the number of elements in list:4\n",
            "Enter element1:12\n",
            "Enter element2:23\n",
            "Enter element3:34\n",
            "Enter element4:45\n",
            "ur list before swapping is  [12, 23, 34, 45]\n",
            "ur list after swapping is [45, 23, 34, 12]\n"
          ]
        }
      ]
    },
    {
      "cell_type": "code",
      "source": [
        "#wap to delete duplicate item from list and then print ib ascending order\n",
        "a=[]\n",
        "n=int(input(\"enter the number of elements in list\"))\n",
        "for x in range(0,n):\n",
        "  element=int(input(\"enter element\" + str(x+1) + \":\"))\n",
        "  a.append(element)\n",
        "print(\"ur list before swapping is \",a)\n",
        "mylist = [ a[i] for i in range(len(a)) if a.index(a[i]) == i]\n",
        "print(\"ur list after deleting duplicate elemt is \",mylist)\n",
        "mylist.sort();\n",
        "print(\"ur list after whole ioperation is\",mylist)\n",
        "\n"
      ],
      "metadata": {
        "colab": {
          "base_uri": "https://localhost:8080/"
        },
        "id": "fwn8rsViJJOb",
        "outputId": "2c310870-49b8-47c7-bdd1-040f12e93114"
      },
      "execution_count": 20,
      "outputs": [
        {
          "output_type": "stream",
          "name": "stdout",
          "text": [
            "enter the number of elements in list4\n",
            "enter element1:12\n",
            "enter element2:23\n",
            "enter element3:12\n",
            "enter element4:23\n",
            "ur list before swapping is  [12, 23, 12, 23]\n",
            "ur list after deleting duplicate elemt is  [12, 23]\n",
            "ur list after whole ioperation is [12, 23]\n"
          ]
        }
      ]
    }
  ]
}