{
  "nbformat": 4,
  "nbformat_minor": 0,
  "metadata": {
    "colab": {
      "provenance": [],
      "authorship_tag": "ABX9TyMW5AnG1oRjNZ/SJAb5tstC",
      "include_colab_link": true
    },
    "kernelspec": {
      "name": "python3",
      "display_name": "Python 3"
    },
    "language_info": {
      "name": "python"
    }
  },
  "cells": [
    {
      "cell_type": "markdown",
      "metadata": {
        "id": "view-in-github",
        "colab_type": "text"
      },
      "source": [
        "<a href=\"https://colab.research.google.com/github/Kushagraraghav/python_code/blob/main/21stmarch2024.ipynb\" target=\"_parent\"><img src=\"https://colab.research.google.com/assets/colab-badge.svg\" alt=\"Open In Colab\"/></a>"
      ]
    },
    {
      "cell_type": "code",
      "execution_count": 6,
      "metadata": {
        "colab": {
          "base_uri": "https://localhost:8080/"
        },
        "id": "aT4Tz6Ed9WyA",
        "outputId": "a64e55b3-f6ee-4200-fe2d-eca3b2ff254f"
      },
      "outputs": [
        {
          "output_type": "stream",
          "name": "stdout",
          "text": [
            "I am insdie the init of class A\n",
            "insde showA of A\n",
            "kushagra\n"
          ]
        }
      ],
      "source": [
        "class A:\n",
        "  def __init__(self,a):\n",
        "    self.name=a\n",
        "    print(\"I am insdie the init of class A\")\n",
        "\n",
        "  def showA(self):\n",
        "    print(\"insde showA of A\")\n",
        "\n",
        "  def attrib(self):\n",
        "    print(self.name)\n",
        "\n",
        "a1=A(\"kushagra\")\n",
        "a1.name\n",
        "a1.showA()\n",
        "a1.attrib()\n",
        "\n"
      ]
    },
    {
      "cell_type": "code",
      "source": [
        "class A:\n",
        "  def __init__(self,a):\n",
        "    self.name=a\n",
        "    self.MD=self.B()\n",
        "    print(\"I am insdie the init of class A\")\n",
        "\n",
        "  def showA(self):\n",
        "    print(\"insde showA of A\")\n",
        "\n",
        "  def attrib(self):\n",
        "    print(self.name)\n",
        "  class B:\n",
        "    def __init__(self):\n",
        "      print(\"hello\")\n",
        "    def showb(self):\n",
        "      print(\"kaise ho\")\n",
        "a1 = A(\"hi\")\n",
        "a1.B()\n",
        "a2=a1.MD\n",
        "a2.showb()"
      ],
      "metadata": {
        "colab": {
          "base_uri": "https://localhost:8080/"
        },
        "id": "Ho7cbc78BoG0",
        "outputId": "5c22ff6e-18ba-4e7a-d37f-390aed1068f7"
      },
      "execution_count": 13,
      "outputs": [
        {
          "output_type": "stream",
          "name": "stdout",
          "text": [
            "hello\n",
            "I am insdie the init of class A\n",
            "hello\n",
            "kaise ho\n"
          ]
        }
      ]
    },
    {
      "cell_type": "code",
      "source": [
        "class A:\n",
        "  def __init__(self,a):\n",
        "    self.name=a\n",
        "    self.MD=self.B()\n",
        "    print(\"I am insdie the init of class A\")\n",
        "\n",
        "  def showA(self):\n",
        "    print(\"insde showA of A\")\n",
        "\n",
        "  def attrib(self):\n",
        "    print(self.name)\n",
        "  class B(A):\n",
        "    def __init__(self):\n",
        "      print(\"hello\")\n",
        "    def showb(self):\n",
        "      print(\"kaise ho\")\n",
        "a1 = A(\"hi\")\n",
        "a1.B()\n",
        "a1.showA()"
      ],
      "metadata": {
        "colab": {
          "base_uri": "https://localhost:8080/"
        },
        "id": "4stgQ4q0D8Av",
        "outputId": "afae75a8-0c81-44f6-cd44-433b3ab24d1e"
      },
      "execution_count": 15,
      "outputs": [
        {
          "output_type": "stream",
          "name": "stdout",
          "text": [
            "hello\n",
            "I am insdie the init of class A\n",
            "hello\n",
            "insde showA of A\n"
          ]
        }
      ]
    },
    {
      "cell_type": "code",
      "source": [
        "class parent():\n",
        "  def value(self):\n",
        "    print(\"Parent's class\")\n",
        "class son():\n",
        "  def value(self):\n",
        "    print(\"inheritance class\")\n",
        "class daughter (son,parent):\n",
        "  def values(self):\n",
        "    print(\"jai mata di\")\n",
        "c1=daughter()\n",
        "c1.value()\n",
        "c1.value()\n",
        "c1.value()\n",
        ""
      ],
      "metadata": {
        "colab": {
          "base_uri": "https://localhost:8080/"
        },
        "id": "7LF7bHCXJ9xr",
        "outputId": "7dc5e9bf-07c2-47ea-aff6-a3a58e284f1b"
      },
      "execution_count": 30,
      "outputs": [
        {
          "output_type": "stream",
          "name": "stdout",
          "text": [
            "inheritance class\n",
            "inheritance class\n",
            "inheritance class\n"
          ]
        }
      ]
    }
  ]
}