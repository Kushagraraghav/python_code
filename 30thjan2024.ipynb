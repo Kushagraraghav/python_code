{
  "nbformat": 4,
  "nbformat_minor": 0,
  "metadata": {
    "colab": {
      "provenance": [],
      "authorship_tag": "ABX9TyOr2HqAkh8aTN+j/NKrEdOf",
      "include_colab_link": true
    },
    "kernelspec": {
      "name": "python3",
      "display_name": "Python 3"
    },
    "language_info": {
      "name": "python"
    }
  },
  "cells": [
    {
      "cell_type": "markdown",
      "metadata": {
        "id": "view-in-github",
        "colab_type": "text"
      },
      "source": [
        "<a href=\"https://colab.research.google.com/github/Kushagraraghav/python_code/blob/main/30thjan2024.ipynb\" target=\"_parent\"><img src=\"https://colab.research.google.com/assets/colab-badge.svg\" alt=\"Open In Colab\"/></a>"
      ]
    },
    {
      "cell_type": "code",
      "execution_count": 24,
      "metadata": {
        "colab": {
          "base_uri": "https://localhost:8080/"
        },
        "id": "B02iGesgephx",
        "outputId": "91c075d4-6e13-450a-afbb-6053fc2bfe05"
      },
      "outputs": [
        {
          "output_type": "stream",
          "name": "stdout",
          "text": [
            "5\n",
            "50\n",
            "500\n",
            "5001\n",
            "50012\n",
            "500125\n",
            "5001256\n",
            "50012560\n",
            "500125606\n"
          ]
        }
      ],
      "source": [
        "num=''\n",
        "for i in \"500125606\":\n",
        " num=str(num+i)\n",
        " print(num)\n",
        ""
      ]
    },
    {
      "cell_type": "code",
      "source": [
        "num = input('enter ur name')\n",
        "print(\"hello \\n\",num)"
      ],
      "metadata": {
        "colab": {
          "base_uri": "https://localhost:8080/"
        },
        "id": "I9__MfgVjGZG",
        "outputId": "171636b5-4e8d-4425-ca10-7da640ab8373"
      },
      "execution_count": 9,
      "outputs": [
        {
          "output_type": "stream",
          "name": "stdout",
          "text": [
            "enter ur nameji\n",
            "hello \n",
            " ji\n"
          ]
        }
      ]
    },
    {
      "cell_type": "code",
      "source": [
        "a = 5\n",
        "print(type(a))\n",
        "b='s'\n",
        "print(type(b))\n",
        "c=1.234556789\n",
        "print(type(c))"
      ],
      "metadata": {
        "colab": {
          "base_uri": "https://localhost:8080/"
        },
        "id": "o-GYzHHVjrOG",
        "outputId": "24ca7639-fea4-4e78-ba6d-36ee3326fcd4"
      },
      "execution_count": 29,
      "outputs": [
        {
          "output_type": "stream",
          "name": "stdout",
          "text": [
            "<class 'int'>\n",
            "<class 'str'>\n",
            "<class 'float'>\n"
          ]
        }
      ]
    },
    {
      "cell_type": "code",
      "source": [
        "list = ['a','bc,78,1.23']\n",
        "list2 = ['d',78]\n",
        "print(list)\n",
        "print(list[0])\n",
        "print(list[1:3])\n",
        "print(list*2)\n",
        "print(list + list2)"
      ],
      "metadata": {
        "colab": {
          "base_uri": "https://localhost:8080/"
        },
        "id": "YVuXmPhen435",
        "outputId": "3a439ea8-5b71-4844-d2dd-ad05bc3c9f2d"
      },
      "execution_count": 34,
      "outputs": [
        {
          "output_type": "stream",
          "name": "stdout",
          "text": [
            "['a', 'bc,78,1.23']\n",
            "a\n",
            "['bc,78,1.23']\n",
            "['a', 'bc,78,1.23', 'a', 'bc,78,1.23']\n",
            "['a', 'bc,78,1.23', 'd', 78]\n"
          ]
        }
      ]
    },
    {
      "cell_type": "code",
      "source": [
        "names = ['jay','vishu','abhinay','kushagra']\n",
        "names.remove('vishu')\n",
        "print(names)\n",
        "print('jai shree krishna' in names)\n",
        "print(len(names))\n",
        "names.append('vishu')\n",
        "print(names)"
      ],
      "metadata": {
        "colab": {
          "base_uri": "https://localhost:8080/"
        },
        "id": "fAzHfxeSqJwK",
        "outputId": "c4253a75-53e8-4f0f-c493-8cb7a3cd3f08"
      },
      "execution_count": 38,
      "outputs": [
        {
          "output_type": "stream",
          "name": "stdout",
          "text": [
            "['jay', 'abhinay', 'kushagra']\n",
            "False\n",
            "3\n",
            "['jay', 'abhinay', 'kushagra', 'vishu']\n"
          ]
        }
      ]
    },
    {
      "cell_type": "code",
      "source": [
        "num_list = [1,2,3,4,5,6,'jai shree krishna']\n",
        "for i in num_list:\n",
        "  print(i)"
      ],
      "metadata": {
        "colab": {
          "base_uri": "https://localhost:8080/"
        },
        "id": "FdUb1lxRrfbO",
        "outputId": "5a327ae3-39bf-41a5-8672-07b51e96264f"
      },
      "execution_count": 41,
      "outputs": [
        {
          "output_type": "stream",
          "name": "stdout",
          "text": [
            "1\n",
            "2\n",
            "3\n",
            "4\n",
            "5\n",
            "6\n",
            "jai shree krishna\n"
          ]
        }
      ]
    },
    {
      "cell_type": "code",
      "source": [
        "list2= [1,2,3]\n",
        "tuple2=(1,2,3)\n",
        "print(type(list2))\n",
        "print(type(tuple2))"
      ],
      "metadata": {
        "colab": {
          "base_uri": "https://localhost:8080/"
        },
        "id": "VBQpw1e-sgZr",
        "outputId": "b987ae92-93ed-4854-903e-949abe27be0b"
      },
      "execution_count": 42,
      "outputs": [
        {
          "output_type": "stream",
          "name": "stdout",
          "text": [
            "<class 'list'>\n",
            "<class 'tuple'>\n"
          ]
        }
      ]
    }
  ]
}