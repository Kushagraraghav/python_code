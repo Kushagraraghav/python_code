{
  "nbformat": 4,
  "nbformat_minor": 0,
  "metadata": {
    "colab": {
      "provenance": [],
      "authorship_tag": "ABX9TyNB+6k3/cDynBStncfG/gPx",
      "include_colab_link": true
    },
    "kernelspec": {
      "name": "python3",
      "display_name": "Python 3"
    },
    "language_info": {
      "name": "python"
    }
  },
  "cells": [
    {
      "cell_type": "markdown",
      "metadata": {
        "id": "view-in-github",
        "colab_type": "text"
      },
      "source": [
        "<a href=\"https://colab.research.google.com/github/Kushagraraghav/python_code/blob/main/8thfeb2024.ipynb\" target=\"_parent\"><img src=\"https://colab.research.google.com/assets/colab-badge.svg\" alt=\"Open In Colab\"/></a>"
      ]
    },
    {
      "cell_type": "code",
      "source": [
        " def square(n):\n",
        "   return n**2\n",
        "\n",
        "def sum(a,b):\n",
        "  square(a)\n",
        "  a=square(a)\n",
        "  return a+b\n",
        "\n",
        "result=square\n",
        "print(result(5))\n",
        "summation=sum(15,7)\n",
        "print(summation)"
      ],
      "metadata": {
        "colab": {
          "base_uri": "https://localhost:8080/"
        },
        "id": "HsV99agtqay7",
        "outputId": "7f4d3ab9-c112-41cb-9290-f146c0920068"
      },
      "execution_count": 22,
      "outputs": [
        {
          "output_type": "stream",
          "name": "stdout",
          "text": [
            "25\n",
            "232\n"
          ]
        }
      ]
    },
    {
      "cell_type": "markdown",
      "source": [
        "global and local variables\n"
      ],
      "metadata": {
        "id": "4uxc0y5dvOi0"
      }
    },
    {
      "cell_type": "code",
      "source": [
        "num_1=100  #global variable\n",
        "def summ():\n",
        "  num_1=50  #local variable\n",
        "  print(num_1)\n",
        "\n",
        "def summm():\n",
        "  print(num_1)\n",
        "\n",
        "summm()\n",
        "summ()\n"
      ],
      "metadata": {
        "colab": {
          "base_uri": "https://localhost:8080/"
        },
        "id": "WvryWG3JvThh",
        "outputId": "af81b3c8-5105-42e0-ef79-602dc1d67405"
      },
      "execution_count": 26,
      "outputs": [
        {
          "output_type": "stream",
          "name": "stdout",
          "text": [
            "100\n",
            "50\n"
          ]
        }
      ]
    },
    {
      "cell_type": "code",
      "source": [
        "#write a python program that calculates the frequency of words in sentence\n",
        "\n",
        "def word_count(str):\n",
        "    counts = dict()\n",
        "    words=str.split()\n",
        "    for word in words:\n",
        "        if word in counts:\n",
        "          counts[word] += 1\n",
        "        else:\n",
        "          counts[word] = 1\n",
        "    return counts\n",
        "print( word_count('hi hello how are u hi again.'))\n",
        "def word_chare():\n",
        "  test_string= \"how are u\"\n",
        "  print(len(test_string))\n",
        "word_chare()\n"
      ],
      "metadata": {
        "colab": {
          "base_uri": "https://localhost:8080/"
        },
        "id": "hUBCaLwTz3wX",
        "outputId": "4c404090-fcb6-4712-c9ca-7d9c9aa83342"
      },
      "execution_count": 37,
      "outputs": [
        {
          "output_type": "stream",
          "name": "stdout",
          "text": [
            "{'hi': 2, 'hello': 1, 'how': 1, 'are': 1, 'u': 1, 'again.': 1}\n",
            "9\n"
          ]
        }
      ]
    }
  ]
}