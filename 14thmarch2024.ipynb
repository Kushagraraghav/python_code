{
  "nbformat": 4,
  "nbformat_minor": 0,
  "metadata": {
    "colab": {
      "provenance": [],
      "authorship_tag": "ABX9TyOaw26FLqhvRgTXSYNogBWW",
      "include_colab_link": true
    },
    "kernelspec": {
      "name": "python3",
      "display_name": "Python 3"
    },
    "language_info": {
      "name": "python"
    }
  },
  "cells": [
    {
      "cell_type": "markdown",
      "metadata": {
        "id": "view-in-github",
        "colab_type": "text"
      },
      "source": [
        "<a href=\"https://colab.research.google.com/github/Kushagraraghav/python_code/blob/main/14thmarch2024.ipynb\" target=\"_parent\"><img src=\"https://colab.research.google.com/assets/colab-badge.svg\" alt=\"Open In Colab\"/></a>"
      ]
    },
    {
      "cell_type": "code",
      "source": [
        "class car:\n",
        "  name=\"BMW\"\n",
        "  model=\"2000\"\n",
        "  def info(self, city ):\n",
        "    print(self.name , self.model,city)\n",
        "e1=car()\n",
        "e2=car()\n",
        "city='jaipur'\n",
        "e1.info(city)"
      ],
      "metadata": {
        "colab": {
          "base_uri": "https://localhost:8080/"
        },
        "id": "73tcQDJA9cZh",
        "outputId": "fd005d1c-25e5-47fd-81f5-9db89f1fd6ac"
      },
      "execution_count": 4,
      "outputs": [
        {
          "output_type": "stream",
          "name": "stdout",
          "text": [
            "BMW 2000 jaipur\n"
          ]
        }
      ]
    },
    {
      "cell_type": "code",
      "source": [
        "class employee:\n",
        "\n",
        "  def initialize(self,N,D):\n",
        "    self.N=N\n",
        "    self.D=D\n",
        "    print(self.N,self.D)\n",
        "    def address (self,city):\n",
        "      print(city)\n",
        "\n",
        "\n",
        "e1=employee()\n",
        "e1.initialize(\"kittu\",\"ceo\")"
      ],
      "metadata": {
        "colab": {
          "base_uri": "https://localhost:8080/"
        },
        "id": "2sKLeZLo_oV_",
        "outputId": "f98daf42-ca46-4c41-9133-c6ac34d1f112"
      },
      "execution_count": 10,
      "outputs": [
        {
          "output_type": "stream",
          "name": "stdout",
          "text": [
            "kittu ceo\n"
          ]
        }
      ]
    },
    {
      "cell_type": "code",
      "source": [
        "class rectangle:\n",
        "  def area(self,l,b):\n",
        "    self.l = l\n",
        "    self.b=b\n",
        "    print(self.l*self.b)\n",
        "e1=rectangle()\n",
        "e1.area(10,5)"
      ],
      "metadata": {
        "colab": {
          "base_uri": "https://localhost:8080/"
        },
        "id": "N7XR2T9sB7zq",
        "outputId": "6643b774-c010-4b99-fc05-f640358cfaf7"
      },
      "execution_count": 14,
      "outputs": [
        {
          "output_type": "stream",
          "name": "stdout",
          "text": [
            "50\n"
          ]
        }
      ]
    },
    {
      "cell_type": "code",
      "source": [
        "#wap to use a class to calculate area and perimter of a square\n",
        "class shape:\n",
        "  def area(self,l):\n",
        "    self.l = l\n",
        "    print(\"the area of square is \",self.l*self.l)\n",
        "  def perimeter(self , b):\n",
        "    self.b = b\n",
        "    print(\"the perimeter of the square is \",4*self.b*self.b)\n",
        "e1 = shape()\n",
        "m = int (input (\"enter the side of the square\"))\n",
        "e1.area(m)\n",
        "e1.perimeter(m)\n",
        "\n",
        ""
      ],
      "metadata": {
        "colab": {
          "base_uri": "https://localhost:8080/"
        },
        "id": "Wjrtr75wDfhn",
        "outputId": "51a642c3-fb52-4d75-cb52-492b34e28b8b"
      },
      "execution_count": 18,
      "outputs": [
        {
          "output_type": "stream",
          "name": "stdout",
          "text": [
            "enter the side of the square12\n",
            "the area of square is  144\n",
            "the perimeter of the square is  576\n"
          ]
        }
      ]
    },
    {
      "cell_type": "code",
      "source": [
        "class FactorialCalculator:\n",
        "    def calculate_factorial(self, n):\n",
        "        if n < 0:\n",
        "            return \"Factorial is not defined for negative numbers\"\n",
        "        elif n == 0:\n",
        "            return 1\n",
        "        else:\n",
        "            result = 1\n",
        "            for i in range(1, n + 1):\n",
        "                result *= i\n",
        "            return result\n",
        "\n",
        "\n",
        "calculator = FactorialCalculator()\n",
        "number = int(input(\"enter the number \"))\n",
        "factorial_result = calculator.calculate_factorial(number)\n",
        "print(factorial_result3)\n"
      ],
      "metadata": {
        "colab": {
          "base_uri": "https://localhost:8080/"
        },
        "id": "Vd3_HSy9H74I",
        "outputId": "87709e2d-be61-4c4f-aae9-1bf7404dc431"
      },
      "execution_count": 23,
      "outputs": [
        {
          "output_type": "stream",
          "name": "stdout",
          "text": [
            "enter the number 5\n",
            "120\n"
          ]
        }
      ]
    }
  ]
}