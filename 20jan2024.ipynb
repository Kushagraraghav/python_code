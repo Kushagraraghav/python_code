{
  "nbformat": 4,
  "nbformat_minor": 0,
  "metadata": {
    "colab": {
      "provenance": [],
      "authorship_tag": "ABX9TyNvwNqFij9btLbznd4jA0dA",
      "include_colab_link": true
    },
    "kernelspec": {
      "name": "python3",
      "display_name": "Python 3"
    },
    "language_info": {
      "name": "python"
    }
  },
  "cells": [
    {
      "cell_type": "markdown",
      "metadata": {
        "id": "view-in-github",
        "colab_type": "text"
      },
      "source": [
        "<a href=\"https://colab.research.google.com/github/Kushagraraghav/python_code/blob/main/20jan2024.ipynb\" target=\"_parent\"><img src=\"https://colab.research.google.com/assets/colab-badge.svg\" alt=\"Open In Colab\"/></a>"
      ]
    },
    {
      "cell_type": "code",
      "execution_count": 12,
      "metadata": {
        "colab": {
          "base_uri": "https://localhost:8080/"
        },
        "id": "0Q2x40Pw1dBt",
        "outputId": "598502a8-2da4-41df-bf75-1c1ab0daafa7"
      },
      "outputs": [
        {
          "output_type": "stream",
          "name": "stdout",
          "text": [
            "Use of operators using program\n",
            "Enter the value of first variable 10 \n",
            "Enter the value of second variable 20\n",
            "a+b 30\n",
            "a-b -10\n",
            "a*b 200\n",
            "a/b 0.5\n",
            "a%b 10\n",
            "a**b 100000000000000000000\n",
            "a//b 0\n",
            "a==b False\n",
            "a!=b True\n",
            "a>=b False\n",
            "a<=b True\n",
            "a<b True\n",
            "a>b False\n",
            "a&b 0\n",
            "a|b 30\n",
            "a^b 30\n",
            "a<<2 40\n",
            "b>>2 5\n"
          ]
        }
      ],
      "source": [
        "num1=input('Enter the value of first varible')\n",
        "num2=input('enter the value of second variable')\n",
        "a=int(num1)\n",
        "b=int(num22)\n",
        "print(\"all arihmetic operations\")\n",
        "print(\"a+b\",a+b)\n",
        "print(\"a-b\",a-b)\n",
        "print(\"a*b\",a*b)\n",
        "print(\"a**b\",a**b)\n",
        "print(\"a/b\",a/b)\n",
        "print(\"a//b\",a//b)\n",
        "print(\"a%b\",a&b)\n",
        "print(\"all comparsion operations are \")\n",
        "print(\"a==b\",a==b)\n",
        "print(\"a!=b\",a!=b)\n",
        "print(\"a>=b\",a>=b)\n",
        "print(\"a<=b\",a<=b)\n",
        "print(\"a<b\",a<b)\n",
        "print(\"a>b\",a>b)\n",
        "print(\"all bitwise operations are \")\n",
        "\n",
        "print(\"a&b\",a&b)\n",
        "print(\"a|b\",a|b)\n",
        "print(\"a^b\",a^b)\n",
        "print(\"a<<2\",a<<2)\n",
        "print(\"b>>2\",b>>2)\n",
        "\n",
        "print(\"all assigment operations are \")\n",
        "c = 5\n",
        "\n"
      ]
    },
    {
      "cell_type": "code",
      "source": [
        "#WAP to make a calculator that does all arithmetci and logical operation\n",
        "num1=input('Enter the value of first varible')\n",
        "num2=input('enter the value of second variable')\n",
        "a=int(num1)\n",
        "b=int(num22)\n",
        "print(\"all arihmetic operations\")\n",
        "print(\"a+b\",a+b)\n",
        "print(\"a-b\",a-b)\n",
        "print(\"a*b\",a*b)\n",
        "print(\"a**b\",a**b)\n",
        "print(\"a/b\",a/b)\n",
        "print(\"a//b\",a//b)\n",
        "print(\"a%b\",a&b)\n",
        "print(\"all comparsion operations are \")\n",
        "print(\"a==b\",a==b)\n",
        "print(\"a!=b\",a!=b)\n",
        "print(\"a>=b\",a>=b)\n",
        "print(\"a<=b\",a<=b)\n",
        "print(\"a<b\",a<b)\n",
        "print(\"a>b\",a>b)\n",
        "if not a:\n",
        "    print(\"Boolean value of a is True\")\n",
        "if not (a%3 == 0 or a%5 == 0):\n",
        "    print(\"10 is not divisible by either 3 or 5\")\n",
        "else:\n",
        "    print(\"10 is divisible by either 3 or 5\")\n",
        ""
      ],
      "metadata": {
        "colab": {
          "base_uri": "https://localhost:8080/"
        },
        "id": "7kNrrpSZAaDY",
        "outputId": "f22eb01c-ecd9-4b8e-8f1e-805406f1da64"
      },
      "execution_count": 16,
      "outputs": [
        {
          "output_type": "stream",
          "name": "stdout",
          "text": [
            "Enter the value of first varible 20 \n",
            "enter the value of second variable 40\n",
            "all arihmetic operations\n",
            "a+b 60\n",
            "a-b -20\n",
            "a*b 800\n",
            "a**b 10995116277760000000000000000000000000000000000000000\n",
            "a/b 0.5\n",
            "a//b 0\n",
            "a%b 0\n",
            "all comparsion operations are \n",
            "a==b False\n",
            "a!=b True\n",
            "a>=b False\n",
            "a<=b True\n",
            "a<b True\n",
            "a>b False\n",
            "10 is divisible by either 3 or 5\n"
          ]
        }
      ]
    }
  ]
}