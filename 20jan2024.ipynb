{
  "nbformat": 4,
  "nbformat_minor": 0,
  "metadata": {
    "colab": {
      "provenance": [],
      "authorship_tag": "ABX9TyPdgGrbM+7kCge+sMiudzyr",
      "include_colab_link": true
    },
    "kernelspec": {
      "name": "python3",
      "display_name": "Python 3"
    },
    "language_info": {
      "name": "python"
    }
  },
  "cells": [
    {
      "cell_type": "markdown",
      "metadata": {
        "id": "view-in-github",
        "colab_type": "text"
      },
      "source": [
        "<a href=\"https://colab.research.google.com/github/Kushagraraghav/python_code/blob/main/20jan2024.ipynb\" target=\"_parent\"><img src=\"https://colab.research.google.com/assets/colab-badge.svg\" alt=\"Open In Colab\"/></a>"
      ]
    },
    {
      "cell_type": "code",
      "execution_count": 27,
      "metadata": {
        "colab": {
          "base_uri": "https://localhost:8080/"
        },
        "id": "0Q2x40Pw1dBt",
        "outputId": "7df0cc8d-142a-4be2-9152-e41f79a3e581"
      },
      "outputs": [
        {
          "output_type": "stream",
          "name": "stdout",
          "text": [
            "welcome to python code\n",
            "different type of code using program\n",
            "Enter the value of first varible 11\n",
            "enter the value of second variable11\n",
            "all arihmetic operations\n",
            "a+b 22\n",
            "a-b 0\n",
            "a*b 121\n",
            "a**b 285311670611\n",
            "a/b 1.0\n",
            "a//b 1\n",
            "a%b 11\n",
            "all comparsion operations are \n",
            "a==b True\n",
            "a!=b False\n",
            "a>=b True\n",
            "a<=b True\n",
            "a<b False\n",
            "a>b False\n",
            "all bitwise operations are \n",
            "a&b 11\n",
            "a|b 11\n",
            "a^b 0\n",
            "a<<2 44\n",
            "b>>2 2\n",
            "~a -12\n",
            "all logical operations are \n",
            "False\n",
            "True\n",
            "False\n",
            "use of assigment operator\n",
            "value of b2 10\n",
            "b2 +=a2 20\n",
            "b2 -=a2 10\n",
            "b2*=a2 100\n",
            "b2<<=a2 102400\n",
            "b2>>=a2 100\n"
          ]
        }
      ],
      "source": [
        "print(\"welcome to python code\")\n",
        "print('different type of code using program')\n",
        "num1=input('Enter the value of first varible')\n",
        "num2=input('enter the value of second variable')\n",
        "a=int(num1)\n",
        "b=int(num2)\n",
        "print(\"all arihmetic operations\")\n",
        "print(\"a+b\",a+b)\n",
        "print(\"a-b\",a-b)\n",
        "print(\"a*b\",a*b)\n",
        "print(\"a**b\",a**b)\n",
        "print(\"a/b\",a/b)\n",
        "print(\"a//b\",a//b)\n",
        "print(\"a%b\",a&b)\n",
        "print(\"all comparsion operations are \")\n",
        "print(\"a==b\",a==b)\n",
        "print(\"a!=b\",a!=b)\n",
        "print(\"a>=b\",a>=b)\n",
        "print(\"a<=b\",a<=b)\n",
        "print(\"a<b\",a<b)\n",
        "print(\"a>b\",a>b)\n",
        "print(\"all bitwise operations are \")\n",
        "\n",
        "print(\"a&b\",a&b)\n",
        "print(\"a|b\",a|b)\n",
        "print(\"a^b\",a^b)\n",
        "print(\"a<<2\",a<<2)\n",
        "print(\"b>>2\",b>>2)\n",
        "print('~a',~a)\n",
        "\n",
        "print(\"all logical operations are \")\n",
        "a1 = True\n",
        "b1 = False\n",
        "print(a1 and b1)\n",
        "print(a1 or b1)\n",
        "print(not a1)\n",
        "print('use of assigment operator')\n",
        "a2 = 10\n",
        "b2 = a2\n",
        "print(\"value of b2\",b2)\n",
        "b2 += a2\n",
        "print(\"b2 +=a2\",b2)\n",
        "b2 -= a2\n",
        "print(\"b2 -=a2\",b2)\n",
        "b2 *= a2\n",
        "print(\"b2*=a2\",b2)\n",
        "b2 <<= a2\n",
        "print(\"b2<<=a2\",b2)\n",
        "b2 >>=a2\n",
        "print(\"b2>>=a2\",b2)\n",
        "\n"
      ]
    },
    {
      "cell_type": "code",
      "source": [
        "#WAP to make a calculator that does all arithmetci and logical operation\n",
        "num1=input('Enter the value of first varible')\n",
        "num2=input('enter the value of second variable')\n",
        "a=int(num1)\n",
        "b=int(num2 )\n",
        "print(\"all arihmetic operations\")\n",
        "print(\"a+b\",a+b)\n",
        "print(\"a-b\",a-b)\n",
        "print(\"a*b\",a*b)\n",
        "print(\"a**b\",a**b)\n",
        "print(\"a/b\",a/b)\n",
        "print(\"a//b\",a//b)\n",
        "print(\"a%b\",a&b)\n",
        "print(\"all comparsion operations are \")\n",
        "print(\"a==b\",a==b)\n",
        "print(\"a!=b\",a!=b)\n",
        "print(\"a>=b\",a>=b)\n",
        "print(\"a<=b\",a<=b)\n",
        "print(\"a<b\",a<b)\n",
        "print(\"a>b\",a>b)\n",
        "if not a:\n",
        "    print(\"Boolean value of a is True\")\n",
        "if not (a%3 == 0 or a%5 == 0):\n",
        "    print(\"10 is not divisible by either 3 or 5\")\n",
        "else:\n",
        "    print(\"10 is divisible by either 3 or 5\")\n",
        "    print(\"all logical operations are \")\n",
        "\n",
        "a1 = True\n",
        "b1 = False\n",
        "print(a1 and b1)\n",
        "print(a1 or b1)\n",
        "print(not a1)\n",
        ""
      ],
      "metadata": {
        "colab": {
          "base_uri": "https://localhost:8080/"
        },
        "id": "7kNrrpSZAaDY",
        "outputId": "28cd5d18-f5f3-4bbb-f80a-18d1179e8c5f"
      },
      "execution_count": 20,
      "outputs": [
        {
          "output_type": "stream",
          "name": "stdout",
          "text": [
            "Enter the value of first varible 10 \n",
            "enter the value of second variable20\n",
            "all arihmetic operations\n",
            "a+b 30\n",
            "a-b -10\n",
            "a*b 200\n",
            "a**b 100000000000000000000\n",
            "a/b 0.5\n",
            "a//b 0\n",
            "a%b 0\n",
            "all comparsion operations are \n",
            "a==b False\n",
            "a!=b True\n",
            "a>=b False\n",
            "a<=b True\n",
            "a<b True\n",
            "a>b False\n",
            "10 is divisible by either 3 or 5\n",
            "all logical operations are \n",
            "False\n",
            "True\n",
            "False\n"
          ]
        }
      ]
    }
  ]
}