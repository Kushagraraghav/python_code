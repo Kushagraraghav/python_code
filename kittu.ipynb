{
  "nbformat": 4,
  "nbformat_minor": 0,
  "metadata": {
    "colab": {
      "provenance": [],
      "authorship_tag": "ABX9TyMd9cK8DzVIlnZixSstO467",
      "include_colab_link": true
    },
    "kernelspec": {
      "name": "python3",
      "display_name": "Python 3"
    },
    "language_info": {
      "name": "python"
    }
  },
  "cells": [
    {
      "cell_type": "markdown",
      "metadata": {
        "id": "view-in-github",
        "colab_type": "text"
      },
      "source": [
        "<a href=\"https://colab.research.google.com/github/Kushagraraghav/python_code/blob/main/kittu.ipynb\" target=\"_parent\"><img src=\"https://colab.research.google.com/assets/colab-badge.svg\" alt=\"Open In Colab\"/></a>"
      ]
    },
    {
      "cell_type": "code",
      "execution_count": 1,
      "metadata": {
        "colab": {
          "base_uri": "https://localhost:8080/"
        },
        "id": "sFqdj0j_124Y",
        "outputId": "7d1a1cd4-9ed1-47cd-8b57-a9e5455c86a5"
      },
      "outputs": [
        {
          "output_type": "stream",
          "name": "stdout",
          "text": [
            "welcome to pyhton\n",
            "20\n",
            "<class 'int'>\n"
          ]
        }
      ],
      "source": [
        "print(\"welcome to pyhton\")\n",
        "a = 10\n",
        "b=10\n",
        "c=a+b\n",
        "print(c)\n",
        "print(type(a))"
      ]
    },
    {
      "cell_type": "code",
      "source": [
        "stri_1=\"hello world\"\n",
        "type(\"stri_1\")"
      ],
      "metadata": {
        "colab": {
          "base_uri": "https://localhost:8080/"
        },
        "id": "TMeX5g2i3XoN",
        "outputId": "2292e51d-c79b-4763-8aba-7058b66b6eed"
      },
      "execution_count": 2,
      "outputs": [
        {
          "output_type": "execute_result",
          "data": {
            "text/plain": [
              "str"
            ]
          },
          "metadata": {},
          "execution_count": 2
        }
      ]
    },
    {
      "cell_type": "code",
      "source": [
        "# use of '+' as a concat sign\n",
        "a=\"10\"\n",
        "b=\"20\"\n",
        "print(a+\" \"+b)"
      ],
      "metadata": {
        "colab": {
          "base_uri": "https://localhost:8080/"
        },
        "id": "I88FhelO3zb6",
        "outputId": "986ad2d1-a25d-4d43-9038-b50614239189"
      },
      "execution_count": 5,
      "outputs": [
        {
          "output_type": "stream",
          "name": "stdout",
          "text": [
            "10 20\n"
          ]
        }
      ]
    },
    {
      "cell_type": "code",
      "source": [
        "birth_year = int(input(\"what is my age \"))\n",
        "age = 2024- birth_year\n",
        "print(age)"
      ],
      "metadata": {
        "colab": {
          "base_uri": "https://localhost:8080/"
        },
        "id": "aHKLJnSJ4MvD",
        "outputId": "a55234f8-08e0-4809-de56-785ea96909b3"
      },
      "execution_count": 8,
      "outputs": [
        {
          "output_type": "stream",
          "name": "stdout",
          "text": [
            "what is my age 2005\n",
            "19\n"
          ]
        }
      ]
    },
    {
      "cell_type": "code",
      "source": [
        "a=10\n",
        "b=20.5\n",
        "c=a+b\n",
        "print(c)\n",
        "print(type(c))"
      ],
      "metadata": {
        "colab": {
          "base_uri": "https://localhost:8080/"
        },
        "id": "yEaKklCx5veS",
        "outputId": "5b1041e6-30ef-474b-d17e-7950653a3eeb"
      },
      "execution_count": 12,
      "outputs": [
        {
          "output_type": "stream",
          "name": "stdout",
          "text": [
            "30.5\n",
            "<class 'float'>\n"
          ]
        }
      ]
    },
    {
      "cell_type": "code",
      "source": [
        "name=input(\"Enter your name\")\n",
        "sap=int(input(\"Enter sap id\"))\n",
        "address=input('Enter address')\n",
        "yr=int(input(\"enter your year\"))\n"
      ],
      "metadata": {
        "id": "_H-_BDer6f3F"
      },
      "execution_count": null,
      "outputs": []
    }
  ]
}