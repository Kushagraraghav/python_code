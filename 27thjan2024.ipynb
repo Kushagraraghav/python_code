{
  "nbformat": 4,
  "nbformat_minor": 0,
  "metadata": {
    "colab": {
      "provenance": [],
      "authorship_tag": "ABX9TyOCIjRUxUdpMJq4uSm50emk",
      "include_colab_link": true
    },
    "kernelspec": {
      "name": "python3",
      "display_name": "Python 3"
    },
    "language_info": {
      "name": "python"
    }
  },
  "cells": [
    {
      "cell_type": "markdown",
      "metadata": {
        "id": "view-in-github",
        "colab_type": "text"
      },
      "source": [
        "<a href=\"https://colab.research.google.com/github/Kushagraraghav/python_code/blob/main/27thjan2024.ipynb\" target=\"_parent\"><img src=\"https://colab.research.google.com/assets/colab-badge.svg\" alt=\"Open In Colab\"/></a>"
      ]
    },
    {
      "cell_type": "code",
      "execution_count": null,
      "metadata": {
        "colab": {
          "base_uri": "https://localhost:8080/"
        },
        "id": "LZOBzh3B26AD",
        "outputId": "cbba0bbc-0cc4-46fe-c29b-014b98be4e3f"
      },
      "outputs": [
        {
          "output_type": "stream",
          "name": "stdout",
          "text": [
            "0\n",
            "1\n",
            "2\n",
            "3\n",
            "4\n",
            "5\n",
            "6\n",
            "7\n",
            "8\n",
            "9\n",
            "10\n"
          ]
        }
      ],
      "source": [
        "#welcome to python class\n",
        "#use of while loop\n",
        "i = 0;\n",
        "while i<=10:\n",
        "  print(i)\n",
        "  i +=1"
      ]
    },
    {
      "cell_type": "code",
      "source": [
        "#use of for loop\n",
        "for i in 'kushagra':\n",
        "  print(i)\n"
      ],
      "metadata": {
        "colab": {
          "base_uri": "https://localhost:8080/"
        },
        "id": "JVSleJuz42n1",
        "outputId": "fe1f48af-4827-4d6c-b1dc-56e9a1f9a7b2"
      },
      "execution_count": null,
      "outputs": [
        {
          "output_type": "stream",
          "name": "stdout",
          "text": [
            "k\n",
            "u\n",
            "s\n",
            "h\n",
            "a\n",
            "g\n",
            "r\n",
            "a\n"
          ]
        }
      ]
    },
    {
      "cell_type": "code",
      "source": [
        "#use of range keyword\n",
        "for i in range(2,20):\n",
        " print(i)\n"
      ],
      "metadata": {
        "colab": {
          "base_uri": "https://localhost:8080/"
        },
        "id": "SOnjPZ_c5sK2",
        "outputId": "ba0bfdc4-0b8e-49a0-e54f-f158670c9b17"
      },
      "execution_count": null,
      "outputs": [
        {
          "output_type": "stream",
          "name": "stdout",
          "text": [
            "2\n",
            "3\n",
            "4\n",
            "5\n",
            "6\n",
            "7\n",
            "8\n",
            "9\n",
            "10\n",
            "11\n",
            "12\n",
            "13\n",
            "14\n",
            "15\n",
            "16\n",
            "17\n",
            "18\n",
            "19\n"
          ]
        }
      ]
    },
    {
      "cell_type": "code",
      "source": [
        "# a series of even number\n",
        "for i in range(2,20,2):\n",
        " print(i)"
      ],
      "metadata": {
        "colab": {
          "base_uri": "https://localhost:8080/"
        },
        "id": "spbNuGTm5sXV",
        "outputId": "835643e3-428a-4e20-b235-be2788ec240c"
      },
      "execution_count": null,
      "outputs": [
        {
          "output_type": "stream",
          "name": "stdout",
          "text": [
            "2\n",
            "4\n",
            "6\n",
            "8\n",
            "10\n",
            "12\n",
            "14\n",
            "16\n",
            "18\n"
          ]
        }
      ]
    },
    {
      "cell_type": "code",
      "source": [
        "for i in ['jai','shree','ram']:\n",
        " print(i)"
      ],
      "metadata": {
        "colab": {
          "base_uri": "https://localhost:8080/"
        },
        "id": "7_Yshg4W6-XS",
        "outputId": "31af90d5-1786-4c49-93ab-c051295defd1"
      },
      "execution_count": null,
      "outputs": [
        {
          "output_type": "stream",
          "name": "stdout",
          "text": [
            "jai\n",
            "shree\n",
            "ram\n"
          ]
        }
      ]
    },
    {
      "cell_type": "code",
      "source": [
        "i = 0\n",
        "while i <= 10:\n",
        "  print(i*'*')\n",
        "  i +=1\n"
      ],
      "metadata": {
        "colab": {
          "base_uri": "https://localhost:8080/"
        },
        "id": "W7cBu_YC5sgZ",
        "outputId": "d310cc2b-975d-4bb9-e7f8-e4574146036b"
      },
      "execution_count": null,
      "outputs": [
        {
          "output_type": "stream",
          "name": "stdout",
          "text": [
            "\n",
            "*\n",
            "**\n",
            "***\n",
            "****\n",
            "*****\n",
            "******\n",
            "*******\n",
            "********\n",
            "*********\n",
            "**********\n"
          ]
        }
      ]
    },
    {
      "cell_type": "code",
      "source": [
        "a=[1,2]\n",
        "b=[3,4]\n",
        "for i in a:\n",
        "  for i in b:\n",
        "    print('inside the inner loop')\n",
        "    print(i,j)\n",
        "  print('outside the inner loop')"
      ],
      "metadata": {
        "colab": {
          "base_uri": "https://localhost:8080/"
        },
        "id": "WGsF5PSo9Dj4",
        "outputId": "470d8c51-817a-44a1-de33-ffff7972b99b"
      },
      "execution_count": null,
      "outputs": [
        {
          "output_type": "stream",
          "name": "stdout",
          "text": [
            "inside the inner loop\n",
            "3 5\n",
            "inside the inner loop\n",
            "4 5\n",
            "outside the inner loop\n",
            "inside the inner loop\n",
            "3 5\n",
            "inside the inner loop\n",
            "4 5\n",
            "outside the inner loop\n"
          ]
        }
      ]
    },
    {
      "cell_type": "code",
      "source": [
        "sec_num = 7\n",
        "guess_count = 3\n",
        "while guess_count <=3:\n",
        "  guess = int(input(\"enter the no. to guess\"))\n",
        "  if guess != sec_num:\n",
        "    print('try again')\n",
        "    guess_count += 1\n",
        "  else:\n",
        "    guess == sec_num\n",
        "    print('you won')\n",
        "    break"
      ],
      "metadata": {
        "colab": {
          "base_uri": "https://localhost:8080/"
        },
        "id": "NtV-LtSM-3Zd",
        "outputId": "6673cc1e-3890-4040-bd57-b6b0820b7747"
      },
      "execution_count": null,
      "outputs": [
        {
          "output_type": "stream",
          "name": "stdout",
          "text": [
            "enter the no. to guess5\n",
            "try again\n"
          ]
        }
      ]
    },
    {
      "cell_type": "code",
      "source": [
        "#wap to find factorial of a number\n",
        "num=int(input(\"enter a number\"))\n",
        "factorial = 1\n",
        "if num < 0:\n",
        "   print(\"Sorry, factorial does not exist for negative numbers\")\n",
        "elif num == 0:\n",
        "   print(\"The factorial of 0 is 1\")\n",
        "else:\n",
        "   for i in range(1,num + 1):\n",
        "       factorial = factorial*i\n",
        "   print(\"The factorial of\",num,\"is\",factorial)\n"
      ],
      "metadata": {
        "colab": {
          "base_uri": "https://localhost:8080/"
        },
        "id": "XJ5V5W5DDWft",
        "outputId": "3871065b-6d83-4dca-d7e7-e7d33fe6ee21"
      },
      "execution_count": null,
      "outputs": [
        {
          "output_type": "stream",
          "name": "stdout",
          "text": [
            "enter a number2\n",
            "The factorial of 2 is 2\n"
          ]
        }
      ]
    },
    {
      "cell_type": "code",
      "source": [
        "#wap"
      ],
      "metadata": {
        "id": "yyzXNR-XHcS9"
      },
      "execution_count": null,
      "outputs": []
    }
  ]
}