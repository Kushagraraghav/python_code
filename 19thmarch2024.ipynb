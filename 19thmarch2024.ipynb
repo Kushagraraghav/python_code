{
  "nbformat": 4,
  "nbformat_minor": 0,
  "metadata": {
    "colab": {
      "provenance": [],
      "authorship_tag": "ABX9TyOvjokkq9zODdNwxo7z4FnA",
      "include_colab_link": true
    },
    "kernelspec": {
      "name": "python3",
      "display_name": "Python 3"
    },
    "language_info": {
      "name": "python"
    }
  },
  "cells": [
    {
      "cell_type": "markdown",
      "metadata": {
        "id": "view-in-github",
        "colab_type": "text"
      },
      "source": [
        "<a href=\"https://colab.research.google.com/github/Kushagraraghav/python_code/blob/main/19thmarch2024.ipynb\" target=\"_parent\"><img src=\"https://colab.research.google.com/assets/colab-badge.svg\" alt=\"Open In Colab\"/></a>"
      ]
    },
    {
      "cell_type": "markdown",
      "source": [
        "understanding of the concept of inheritance in python\n"
      ],
      "metadata": {
        "id": "DHnQPWa-0vAf"
      }
    },
    {
      "cell_type": "code",
      "source": [
        "class employee:\n",
        "  name =\"sajid\"\n",
        "  sapid=50012\n",
        "  def info(self):\n",
        "    print(self.name,self.sapid)\n",
        "e1=employee()\n",
        "e1.info()"
      ],
      "metadata": {
        "colab": {
          "base_uri": "https://localhost:8080/"
        },
        "id": "csggD48v02X1",
        "outputId": "e8641c7f-37fb-4f37-97d7-83015b6f4dcb"
      },
      "execution_count": 3,
      "outputs": [
        {
          "output_type": "stream",
          "name": "stdout",
          "text": [
            "sajid 50012\n"
          ]
        }
      ]
    },
    {
      "cell_type": "code",
      "source": [
        "#inner class\n",
        "class employee:\n",
        "  name =\"sajid\"\n",
        "  sapid=50012\n",
        "  def info(self):\n",
        "    print(self.name,self.sapid)\n",
        "  class activity:\n",
        "    def info(self):\n",
        "      print(\"jinga lala hu hu\")\n",
        "e1=employee()\n",
        "e1.info()\n",
        "e2=employee.activity()\n",
        "e2.info()\n",
        "e3=activity()\n",
        "e3.info()"
      ],
      "metadata": {
        "colab": {
          "base_uri": "https://localhost:8080/"
        },
        "id": "cGLSl2YR1iCp",
        "outputId": "96bf2a05-6c83-45d3-98d8-d74bfc56ae8e"
      },
      "execution_count": 9,
      "outputs": [
        {
          "output_type": "stream",
          "name": "stdout",
          "text": [
            "sajid 50012\n",
            "jinga lala hu hu\n",
            "jinga lala hu hu\n"
          ]
        }
      ]
    },
    {
      "cell_type": "code",
      "source": [
        "class AssiantProfessor:\n",
        "  def __int__(self,name,Id):\n",
        "    self.name=name\n",
        "    self.Id=Id\n",
        "    def show():\n",
        "      print(f\"my name is :{self.name}\")\n",
        "      print(f\"my id is :{self.Id}\")\n",
        "  class details():\n",
        "    def show(self):\n",
        "      print(\"jinga la la hu hu\")\n",
        "AP=AssiantProfessor.details()\n",
        "AP.show()\n",
        ""
      ],
      "metadata": {
        "colab": {
          "base_uri": "https://localhost:8080/"
        },
        "id": "04rdoM1J4I-L",
        "outputId": "695f1333-be8e-4656-8757-25d6d2e9dc58"
      },
      "execution_count": 14,
      "outputs": [
        {
          "output_type": "stream",
          "name": "stdout",
          "text": [
            "jinga la la hu hu\n"
          ]
        }
      ]
    },
    {
      "cell_type": "code",
      "source": [
        "class AssistantProfessor:\n",
        "  def __init__(self,name,Id):\n",
        "    self.name=name\n",
        "    self.Id=Id\n",
        "    self.MD=self.Details()\n",
        "  def show(self):\n",
        "   # print(f\"my name is :{self.name}\")\n",
        "    #print(f\"my id is :{self.Id}\")\n",
        "    print(self.name,self.Id)\n",
        "  class Details:\n",
        "    def show(self):\n",
        "      print(\"jinga la la hu hu\")\n",
        "AP1=AssistantProfessor(\"sajid\", 50012)\n",
        "AP1.show()\n",
        "AP2=AP1.MD\n",
        "AP2.show()"
      ],
      "metadata": {
        "colab": {
          "base_uri": "https://localhost:8080/"
        },
        "id": "0BKiqcuA6UwF",
        "outputId": "7e7a434d-0d30-4c6e-c1ff-b4ce0465f554"
      },
      "execution_count": 32,
      "outputs": [
        {
          "output_type": "stream",
          "name": "stdout",
          "text": [
            "sajid 50012\n",
            "jinga la la hu hu\n"
          ]
        }
      ]
    },
    {
      "cell_type": "code",
      "source": [
        "class parent():\n",
        "  def values(self):\n",
        "    print(\"elvishhhhhhhhhhhh bhai\")\n",
        "class son():\n",
        "  def values(self):\n",
        "    print(\"thara bhai jogindher\")\n",
        "class daughter ():\n",
        "  def values(self):\n",
        "    print(\"jinga lala hu hu\")\n",
        "\n",
        "P1=parent()\n",
        "P2=son()\n",
        "P3=daughter()\n",
        "P1.values()\n",
        "P2.values()\n",
        "P3.values()"
      ],
      "metadata": {
        "colab": {
          "base_uri": "https://localhost:8080/"
        },
        "id": "R1Ephumn9YZu",
        "outputId": "d4df5503-21b7-4ac9-bef5-39e86188b001"
      },
      "execution_count": 21,
      "outputs": [
        {
          "output_type": "stream",
          "name": "stdout",
          "text": [
            "elvishhhhhhhhhhhh bhai\n",
            "thara bhai jogindher\n",
            "jinga lala hu hu\n"
          ]
        }
      ]
    },
    {
      "cell_type": "code",
      "source": [
        "#inheritance\n",
        "class parent():\n",
        "  def property(self):\n",
        "    print(\"elvishhhhhhhhhhhh bhai\")\n",
        "class son(parent):\n",
        "  def value(self):\n",
        "    print(\"thara bhai jogindher\")\n",
        "class daughter (son):\n",
        "  def values(self):\n",
        "    print(\"jinga lala hu hu\")\n",
        "s1=daughter()\n",
        "s1.values()\n",
        "s1.property()\n",
        "s1.value()"
      ],
      "metadata": {
        "colab": {
          "base_uri": "https://localhost:8080/"
        },
        "id": "hDUITKCc_3aF",
        "outputId": "6e4cf934-0efc-40cd-ddaf-08b6be937135"
      },
      "execution_count": 27,
      "outputs": [
        {
          "output_type": "stream",
          "name": "stdout",
          "text": [
            "jinga lala hu hu\n",
            "elvishhhhhhhhhhhh bhai\n",
            "thara bhai jogindher\n"
          ]
        }
      ]
    }
  ]
}