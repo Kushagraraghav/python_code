{
  "nbformat": 4,
  "nbformat_minor": 0,
  "metadata": {
    "colab": {
      "provenance": [],
      "authorship_tag": "ABX9TyMhln8REUuhg0hvFqoXFeua",
      "include_colab_link": true
    },
    "kernelspec": {
      "name": "python3",
      "display_name": "Python 3"
    },
    "language_info": {
      "name": "python"
    }
  },
  "cells": [
    {
      "cell_type": "markdown",
      "metadata": {
        "id": "view-in-github",
        "colab_type": "text"
      },
      "source": [
        "<a href=\"https://colab.research.google.com/github/Kushagraraghav/python_code/blob/main/25thjan2024.ipynb\" target=\"_parent\"><img src=\"https://colab.research.google.com/assets/colab-badge.svg\" alt=\"Open In Colab\"/></a>"
      ]
    },
    {
      "cell_type": "code",
      "execution_count": 7,
      "metadata": {
        "colab": {
          "base_uri": "https://localhost:8080/"
        },
        "id": "jRJNYcTeuLSt",
        "outputId": "6bb864c1-c6cd-407d-ca40-0a34d4e665dc"
      },
      "outputs": [
        {
          "output_type": "stream",
          "name": "stdout",
          "text": [
            "66.875\n",
            "488281250.0\n"
          ]
        }
      ],
      "source": [
        "#use of operator\n",
        "a=20+30*50/2**5\n",
        "print(a)\n",
        "b =print((20+30)*(50/2)**5)"
      ]
    },
    {
      "cell_type": "code",
      "source": [
        "#working of else if\n",
        "b=int(input(\"Enter the temperature in celsius\"))\n",
        "if(b>=15 and b<=30):\n",
        " print(\"IT IS A FINE DAY ENJOY\")\n",
        "elif(b>30 and b <=35):\n",
        " print('IT IS HOT DAY')\n",
        "elif(b>35):\n",
        "  print(\"IT IS SUPER HOT DAY\")\n",
        "  print(\"BE HYDRATED\")\n",
        "elif(b<15):\n",
        " print(\"IT IS A COLD DAY\")\n",
        "else:\n",
        "  print(\"pls enter valid input\")\n",
        "\n"
      ],
      "metadata": {
        "colab": {
          "base_uri": "https://localhost:8080/"
        },
        "id": "uJ5iTryg5foy",
        "outputId": "c36bce8f-6224-425c-bafd-a2012cc97dee"
      },
      "execution_count": 21,
      "outputs": [
        {
          "output_type": "stream",
          "name": "stdout",
          "text": [
            "Enter the temperature in celsius 69\n",
            "IT IS SUPER HOT DAY\n",
            "BE HYDRATED\n"
          ]
        }
      ]
    },
    {
      "cell_type": "code",
      "source": [
        "# weight conversion weight\n",
        "weight = float(input(\"weight\"))\n",
        "unit = input(\"Enter the unit\")\n",
        "if (unit == \"K\" or unit == \"k\"):\n",
        "  converted = weight * 0.45\n",
        "  print(\"weight in kg:\" + str(converted))\n",
        "else:\n",
        "  converted = weight / 0.45\n",
        "  print(\"weight in lbs :\" + str(converted))"
      ],
      "metadata": {
        "colab": {
          "base_uri": "https://localhost:8080/"
        },
        "id": "NdGLGnQw-_A-",
        "outputId": "5bd4085c-83e4-4f18-9918-149b1de4af19"
      },
      "execution_count": 32,
      "outputs": [
        {
          "output_type": "stream",
          "name": "stdout",
          "text": [
            "weight 50\n",
            "Enter the unitk\n",
            "weight in kg:22.5\n"
          ]
        }
      ]
    },
    {
      "cell_type": "code",
      "source": [
        "#write a program on car automation\n",
        "command = \"\"\n",
        "\n",
        "print('''\n",
        "         start - to start the car\n",
        "         stop - to stop the car\n",
        "         quit - to quit\n",
        "         help - to help\n",
        "         ''')\n",
        "command = input((\"enter the command of ur choice\"))\n",
        "if (command.lower() == \"start\"):\n",
        " print(\"Car Started....\")\n",
        "elif (command.lower() == \"stop\"):\n",
        " print(\"Car Stopped\")\n",
        "elif (command.lower() == \"help\"):\n",
        " print(\"call polie for help\")\n",
        "elif (command.lower() == \"quit\"):\n",
        " print(\"quit\")\n",
        "else:\n",
        " print(\"sorry i cant understand\")\n",
        ""
      ],
      "metadata": {
        "colab": {
          "base_uri": "https://localhost:8080/"
        },
        "id": "dbUgFiuOChqy",
        "outputId": "85d1806a-6ac9-4784-8cb3-ad1fa385849e"
      },
      "execution_count": 48,
      "outputs": [
        {
          "output_type": "stream",
          "name": "stdout",
          "text": [
            "\n",
            "         start - to start the car\n",
            "         stop - to stop the car\n",
            "         quit - to quit\n",
            "         help - to help \n",
            "         \n",
            "enter the command of ur choicewerty\n",
            "sorry i cant understand\n"
          ]
        }
      ]
    },
    {
      "cell_type": "code",
      "source": [],
      "metadata": {
        "id": "dXV_V8wKFPRs"
      },
      "execution_count": null,
      "outputs": []
    }
  ]
}