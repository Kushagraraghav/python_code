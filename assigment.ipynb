{
  "nbformat": 4,
  "nbformat_minor": 0,
  "metadata": {
    "colab": {
      "provenance": [],
      "authorship_tag": "ABX9TyPMuCLdXdrTscBeD/K3nYNW",
      "include_colab_link": true
    },
    "kernelspec": {
      "name": "python3",
      "display_name": "Python 3"
    },
    "language_info": {
      "name": "python"
    }
  },
  "cells": [
    {
      "cell_type": "markdown",
      "metadata": {
        "id": "view-in-github",
        "colab_type": "text"
      },
      "source": [
        "<a href=\"https://colab.research.google.com/github/Kushagraraghav/python_code/blob/main/assigment.ipynb\" target=\"_parent\"><img src=\"https://colab.research.google.com/assets/colab-badge.svg\" alt=\"Open In Colab\"/></a>"
      ]
    },
    {
      "cell_type": "code",
      "execution_count": 18,
      "metadata": {
        "colab": {
          "base_uri": "https://localhost:8080/"
        },
        "id": "5zccXoSb_0yf",
        "outputId": "77f1fa14-652b-4349-c56e-2f80dd017843"
      },
      "outputs": [
        {
          "output_type": "stream",
          "name": "stdout",
          "text": [
            "Hello there!how are you\n",
            "Hello there!Hello there!Hello there!\n",
            "hello there!\n",
            "HOW ARE YOU\n",
            "How are you\n",
            "2\n",
            "1\n",
            "137285727026352\n",
            "11\n",
            "hELLO THERE!\n",
            "How Are You\n",
            "4\n",
            "False\n",
            "True\n",
            "False\n",
            "<class 'str'>\n",
            "what ur age 18\n",
            "18\n",
            "False\n",
            "True\n",
            "False\n",
            "<built-in method format of str object at 0x7cdc52fdfcb0>\n",
            "False\n"
          ]
        }
      ],
      "source": [
        "#Write a program to perform atleast 20 operations on string\n",
        "a=\"Hello there!\"\n",
        "b='how are you'\n",
        "print(a+b)\n",
        "print(a*3)\n",
        "print(a.lower())\n",
        "print(b.upper())\n",
        "print(b.capitalize())\n",
        "print(a.count(\"l\"))\n",
        "print(b.find('o'))\n",
        "print(id(a))\n",
        "print(len(b))\n",
        "print(a.swapcase())\n",
        "print(b.title())\n",
        "print(a.index('o'))\n",
        "print(a==b)\n",
        "print('a' in 'apha')\n",
        "print('a' not in 'apha')\n",
        "print(type(a))\n",
        "print(int(input('what ur age')))\n",
        "print(a.isdecimal())\n",
        "print(b.isascii())\n",
        "print(a.isalpha())\n",
        "print(a.format)\n",
        "print(b.isalnum())"
      ]
    },
    {
      "cell_type": "code",
      "source": [],
      "metadata": {
        "id": "jPZmE8QxHi3c"
      },
      "execution_count": null,
      "outputs": []
    },
    {
      "cell_type": "code",
      "source": [],
      "metadata": {
        "id": "kbS6dUiQ_7TW"
      },
      "execution_count": null,
      "outputs": []
    }
  ]
}