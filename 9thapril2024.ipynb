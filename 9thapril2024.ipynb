{
  "nbformat": 4,
  "nbformat_minor": 0,
  "metadata": {
    "colab": {
      "provenance": [],
      "authorship_tag": "ABX9TyPp3ZTKDLVDirI3VaXcZe/e",
      "include_colab_link": true
    },
    "kernelspec": {
      "name": "python3",
      "display_name": "Python 3"
    },
    "language_info": {
      "name": "python"
    }
  },
  "cells": [
    {
      "cell_type": "markdown",
      "metadata": {
        "id": "view-in-github",
        "colab_type": "text"
      },
      "source": [
        "<a href=\"https://colab.research.google.com/github/Kushagraraghav/python_code/blob/main/9thapril2024.ipynb\" target=\"_parent\"><img src=\"https://colab.research.google.com/assets/colab-badge.svg\" alt=\"Open In Colab\"/></a>"
      ]
    },
    {
      "cell_type": "code",
      "execution_count": 7,
      "metadata": {
        "colab": {
          "base_uri": "https://localhost:8080/"
        },
        "id": "OIOyO1Ic90FT",
        "outputId": "cae6f5f9-6a01-46ea-b655-fd6b9b8e4ec3"
      },
      "outputs": [
        {
          "output_type": "stream",
          "name": "stdout",
          "text": [
            "       sapid     fname       lname             subject        teacher\n",
            "0  447416896  kushagra      raghav                Math      Mr. sajid\n",
            "1  114322993    yamini      dhiman             Science     Mrs. Silky\n",
            "2  736845386    aaryan  khandelwal             English       Ms.meha \n",
            "3  432143118    shreth     kukrety             History     Mr. manish\n",
            "4  867257415   kritika       gupta           Geography    Mrs. bhavna\n",
            "5  257130317     vishu      raghav                 Art  Mr. bhupendra\n",
            "6  676942431       Jay      raghav               Music       Ms.tanya\n",
            "7  128208471     kittu         don  Physical Education      Mr. maish\n",
            "8  302600015       jai         don    Computer Science    Mrs.archana\n",
            "9  207106748       kit         kat            Language      Mr.chahal\n"
          ]
        }
      ],
      "source": [
        "#write a program to create the following dataset using mumpy and pandas\n",
        "#sapid fname lname subject teacher\n",
        "\n",
        "import numpy as np\n",
        "import pandas as pd\n",
        "\n",
        "\n",
        "data = {\n",
        "    'sapid': np.random.randint(100000000, 999999999,size=10),\n",
        "    'fname': ['kushagra', 'yamini', 'aaryan', 'shreth', 'kritika', 'vishu', 'Jay', 'kittu', 'jai', 'kit'],\n",
        "    'lname': ['raghav', 'dhiman', 'khandelwal', 'kukrety', 'gupta', 'raghav', 'raghav', 'don', 'don', 'kat'],\n",
        "    'subject': ['Math', 'Science', 'English', 'History', 'Geography', 'Art', 'Music', 'Physical Education', 'Computer Science', 'Language'],\n",
        "    'teacher': ['Mr. sajid', 'Mrs. Silky', 'Ms.meha ', 'Mr. manish', 'Mrs. bhavna', 'Mr. bhupendra', 'Ms.tanya', 'Mr. maish', 'Mrs.archana', 'Mr.chahal']\n",
        "}\n",
        "\n",
        "\n",
        "df = pd.DataFrame(data)\n",
        "\n",
        "\n",
        "print(df)\n",
        "\n"
      ]
    },
    {
      "cell_type": "code",
      "source": [
        "# your task is to create a circle constructor that creates a circle with a radius provided by argument . the circles constructed must have two methods get area() and getperimeter() which give bith respective areas and perimeter\n",
        "\n",
        "\n",
        "class Circle:\n",
        "  def __init__(self,radius):\n",
        "    self.radius = radius\n",
        "  def GetArea(self):\n",
        "    return 3.143*(self.radius**2)\n",
        "  def Getperimeter(self):\n",
        "    return 2*3.143*self.radius\n",
        "\n",
        "radius = 5\n",
        "circle = Circle(radius)\n",
        "print(\"area is \",circle.GetArea())\n",
        "print(\"perimeter is\",circle.Getperimeter())\n",
        "\n",
        "\n",
        "\n"
      ],
      "metadata": {
        "colab": {
          "base_uri": "https://localhost:8080/"
        },
        "id": "NqgPyzw0_GWM",
        "outputId": "f7fd93c5-2097-4e2b-ab6e-7726528baf76"
      },
      "execution_count": 2,
      "outputs": [
        {
          "output_type": "stream",
          "name": "stdout",
          "text": [
            "area is  78.57499999999999\n",
            "perimeter is 31.43\n"
          ]
        }
      ]
    }
  ]
}