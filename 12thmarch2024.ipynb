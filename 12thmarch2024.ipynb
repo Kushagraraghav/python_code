{
  "nbformat": 4,
  "nbformat_minor": 0,
  "metadata": {
    "colab": {
      "provenance": [],
      "authorship_tag": "ABX9TyNWQN4qFeDSXSqR8RZfBIC4",
      "include_colab_link": true
    },
    "kernelspec": {
      "name": "python3",
      "display_name": "Python 3"
    },
    "language_info": {
      "name": "python"
    }
  },
  "cells": [
    {
      "cell_type": "markdown",
      "metadata": {
        "id": "view-in-github",
        "colab_type": "text"
      },
      "source": [
        "<a href=\"https://colab.research.google.com/github/Kushagraraghav/python_code/blob/main/12thmarch2024.ipynb\" target=\"_parent\"><img src=\"https://colab.research.google.com/assets/colab-badge.svg\" alt=\"Open In Colab\"/></a>"
      ]
    },
    {
      "cell_type": "code",
      "execution_count": 10,
      "metadata": {
        "colab": {
          "base_uri": "https://localhost:8080/"
        },
        "id": "FhO-yvRV8PRG",
        "outputId": "2d96a579-59fe-4581-adfb-334da473fbd8"
      },
      "outputs": [
        {
          "output_type": "stream",
          "name": "stdout",
          "text": [
            "draw the point\n",
            "ur point is constructed in x-y plane\n"
          ]
        }
      ],
      "source": [
        "class Point:\n",
        "  def draw(self):\n",
        "    print(\"draw the point\")\n",
        "  def constructor(self):\n",
        "    print('ur point is constructed in x-y plane')\n",
        "A=Point()\n",
        "A.draw()\n",
        "A.constructor()\n"
      ]
    },
    {
      "cell_type": "code",
      "source": [
        "a=int(input(\"enter the number\"))\n",
        "b=int(input(\"enter the number\"))\n",
        "try:\n",
        "  c = a/b\n",
        "except Exception as e :\n",
        "  print(\"exception handling\",e)\n",
        "finally:\n",
        "  print('program excuted')\n",
        "  print (c)\n",
        "\n",
        "\n",
        "\n",
        "\n",
        "\n"
      ],
      "metadata": {
        "colab": {
          "base_uri": "https://localhost:8080/"
        },
        "id": "RuJ7rt4f_pmx",
        "outputId": "a9957e03-e658-45a3-95cd-e7488c3978c6"
      },
      "execution_count": 17,
      "outputs": [
        {
          "output_type": "stream",
          "name": "stdout",
          "text": [
            "enter the number12\n",
            "enter the number12\n",
            "program excuted\n",
            "1.0\n"
          ]
        }
      ]
    }
  ]
}