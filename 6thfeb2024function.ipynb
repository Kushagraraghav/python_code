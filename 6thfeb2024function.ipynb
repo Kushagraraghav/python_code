{
  "nbformat": 4,
  "nbformat_minor": 0,
  "metadata": {
    "colab": {
      "provenance": [],
      "authorship_tag": "ABX9TyMASoKkJjNEhCcoc/jEaOuV",
      "include_colab_link": true
    },
    "kernelspec": {
      "name": "python3",
      "display_name": "Python 3"
    },
    "language_info": {
      "name": "python"
    }
  },
  "cells": [
    {
      "cell_type": "markdown",
      "metadata": {
        "id": "view-in-github",
        "colab_type": "text"
      },
      "source": [
        "<a href=\"https://colab.research.google.com/github/Kushagraraghav/python_code/blob/main/6thfeb2024function.ipynb\" target=\"_parent\"><img src=\"https://colab.research.google.com/assets/colab-badge.svg\" alt=\"Open In Colab\"/></a>"
      ]
    },
    {
      "cell_type": "code",
      "execution_count": 6,
      "metadata": {
        "colab": {
          "base_uri": "https://localhost:8080/"
        },
        "id": "8OxnHJeohbh4",
        "outputId": "df5962a0-f470-4cfa-e1b4-28c234be3dc5"
      },
      "outputs": [
        {
          "output_type": "stream",
          "name": "stdout",
          "text": [
            "jai shreee ram\n",
            "welcome to  python kushagra raghav\n",
            "chipi chipi chapa chapa\n",
            "you can do anything in life\n"
          ]
        }
      ],
      "source": [
        "#use of a function\n",
        "def func_1(name,name2):\n",
        "  print(f'welcome to  python {name} {name2}')\n",
        "  print(\"chipi chipi chapa chapa\")\n",
        "\n",
        "print(\"jai shreee ram\")\n",
        "func_1(\"kushagra\",\"raghav\")\n",
        "print(\"you can do anything in life\")\n"
      ]
    },
    {
      "cell_type": "code",
      "source": [
        "def func_2(name,name2):\n",
        "  print(f'welcome to  python {name} {name2}')\n",
        "  print(\"chipi chipi chapa chapa\")\n",
        "\n",
        "print(\"jai shreee ram\")\n",
        "func_2(name2=\"kushagra\",name=\"raghav\")#keyword argument\n",
        "print(\"you can do anything in life\")"
      ],
      "metadata": {
        "colab": {
          "base_uri": "https://localhost:8080/"
        },
        "id": "skN45pW1mLuv",
        "outputId": "8f0be1d6-6024-40f2-91a2-bde44cfae3ca"
      },
      "execution_count": 7,
      "outputs": [
        {
          "output_type": "stream",
          "name": "stdout",
          "text": [
            "jai shreee ram\n",
            "welcome to  python raghav kushagra\n",
            "chipi chipi chapa chapa\n",
            "you can do anything in life\n"
          ]
        }
      ]
    },
    {
      "cell_type": "code",
      "source": [
        "def func_3(mrp,shipping,discount):\n",
        "  selling_price = mrp+shipping-discount\n",
        "  print(selling_price)\n",
        "\n",
        "print(\"total selling price\")\n",
        "func_3(mrp =5000,discount=100,shipping=200)"
      ],
      "metadata": {
        "colab": {
          "base_uri": "https://localhost:8080/"
        },
        "id": "i8Ld9yrWmuRt",
        "outputId": "37cfbc67-f5d6-471b-bd9e-f628cb034344"
      },
      "execution_count": 16,
      "outputs": [
        {
          "output_type": "stream",
          "name": "stdout",
          "text": [
            "total selling price\n",
            "5100\n"
          ]
        }
      ]
    },
    {
      "cell_type": "code",
      "source": [
        "#wap to create func that does arithmetic operation\n",
        "def func_4(a,b):\n",
        "  print('a+b=',a+b)\n",
        "  print('a-b=',a-b)\n",
        "  print('a*b=',a*b)\n",
        "  print('a/b=',a/b)\n",
        "\n",
        "func_4(10,5)"
      ],
      "metadata": {
        "colab": {
          "base_uri": "https://localhost:8080/"
        },
        "id": "XmwMPQlHobCr",
        "outputId": "6b1b9c06-0aad-46bc-8e4b-a86b44130a13"
      },
      "execution_count": 17,
      "outputs": [
        {
          "output_type": "stream",
          "name": "stdout",
          "text": [
            "a+b= 15\n",
            "a-b= 5\n",
            "a*b= 50\n",
            "a/b= 2.0\n"
          ]
        }
      ]
    },
    {
      "cell_type": "code",
      "source": [
        "def emoji_convertor(message):\n",
        "  words = message.split(' ') #converts input message into list of words\n",
        "#create an emoji dictionery use windows logo key + dot(.) to add emojis\n",
        "emojis = {\n",
        "        \":)\" : \"😄\" ,\n",
        "        \"(:\" : \" 😥\"\n",
        "        }\n",
        "\n",
        "output =''\n",
        "for word in words:\n",
        "    output+=emojis.get(word,word)+\" \"\n",
        "print(output)\n",
        "\n",
        "\n",
        "\n",
        "\n",
        "\n",
        "message=input(\"enter the message\")\n",
        "emoji_convertor(message)\n"
      ],
      "metadata": {
        "colab": {
          "base_uri": "https://localhost:8080/"
        },
        "id": "8U0vCvZFsNQ5",
        "outputId": "660fb0a2-2007-4773-c9d6-fc590832b178"
      },
      "execution_count": 25,
      "outputs": [
        {
          "name": "stdout",
          "output_type": "stream",
          "text": [
            "good night 😄 \n",
            "enter the messagehi:)\n"
          ]
        }
      ]
    },
    {
      "cell_type": "code",
      "source": [
        "message = input(\"enter\")\n",
        "words = message.split(' ') #converts input message into list of words\n",
        "#create an emoji dictionery use windows logo key + dot(.) to add emojis\n",
        "emojis = {\n",
        "        \":)\" : \"😄\" ,\n",
        "        \"(:\" : \" 😥\"\n",
        "        }\n",
        "\n",
        "output =''\n",
        "for word in words:\n",
        "    output+=emojis.get(word,word)\n",
        "print(output)"
      ],
      "metadata": {
        "colab": {
          "base_uri": "https://localhost:8080/"
        },
        "id": "eAeuANjfquTL",
        "outputId": "d6c53618-7b7d-40d7-9ddf-ab7869836465"
      },
      "execution_count": 19,
      "outputs": [
        {
          "output_type": "stream",
          "name": "stdout",
          "text": [
            "entergood night :)\n",
            "goodnight😄\n"
          ]
        }
      ]
    },
    {
      "cell_type": "code",
      "source": [
        "#wap to reverse a strign without using reverse function\n",
        "def reverse(s):\n",
        "    str = \"\"\n",
        "    for i in s:\n",
        "        str = i + str\n",
        "    return str\n",
        "\n",
        "s = input(\"enter ur name \")\n",
        "print(\"The original string is : \", end=\"\")\n",
        "print(s)\n",
        "print(\"The reversed string is : \", end=\"\")\n",
        "print(reverse(s))"
      ],
      "metadata": {
        "colab": {
          "base_uri": "https://localhost:8080/"
        },
        "id": "637HMXFHvQ1D",
        "outputId": "5c9c68b7-162d-4ac2-9dc3-ff4ffd9703ab"
      },
      "execution_count": 29,
      "outputs": [
        {
          "output_type": "stream",
          "name": "stdout",
          "text": [
            "enter ur name aaryan\n",
            "The original string is : aaryan\n",
            "The reversed string is : nayraa\n"
          ]
        }
      ]
    }
  ]
}